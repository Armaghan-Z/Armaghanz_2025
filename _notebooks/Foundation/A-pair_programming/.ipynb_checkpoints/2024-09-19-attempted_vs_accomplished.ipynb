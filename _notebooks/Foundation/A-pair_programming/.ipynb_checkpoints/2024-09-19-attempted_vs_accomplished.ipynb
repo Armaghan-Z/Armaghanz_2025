{
 "cells": [
  {
   "cell_type": "raw",
   "metadata": {
    "vscode": {
     "languageId": "raw"
    }
   },
   "source": [
    "---\n",
    "layout: post\n",
    "title: \"Attempted vs Accomplished\"\n",
    "description: Things I have done and attempted\n",
    "permalink: /attempted_vs_accomplished/\n",
    "type: issues\n",
    "comments: true\n",
    "---"
   ]
  },
  {
   "cell_type": "markdown",
   "metadata": {},
   "source": [
    "## Attempted\n",
    "- **Exploration of Python Programming**: I focused on understanding the basics of Python, including data types, control structures, and functions. I experimented with different coding exercises to solidify my grasp on these concepts.\n",
    "- **Jupyter Notebooks**: I started using Jupyter Notebooks for coding practice, which helped me visualize data and run Python code interactively. This was particularly useful for experimenting with libraries like NumPy and Matplotlib.\n",
    "- **Version Control with Git**: I attempted to integrate Git into my workflow to manage changes in my code and collaborate with others. I practiced commands like `git commit`, `git push`, and `git pull`.\n",
    "\n",
    "## Accomplished\n",
    "- **Completed Python Projects**: I successfully completed several small projects, including a basic calculator and a simple data analysis script using Pandas. These projects allowed me to apply my Python skills in practical scenarios.\n",
    "- **Enhanced Jupyter Notebook Skills**: I became proficient in using Jupyter Notebooks, learning to format text, add images, and visualize data effectively. This has improved my ability to present coding work clearly.\n",
    "- **Mastered Git Basics**: I mastered the fundamental Git commands and created a GitHub repository to showcase my work. This experience enhanced my understanding of version control and collaboration in coding projects.\n",
    "- **Popup with cookies**: I was able to create a popup that remembers data by using cookies on the website, it cretes a block with text as well to warm users of the possible bug that they may encounter.\n"
   ]
  }
 ],
 "metadata": {
  "kernelspec": {
   "display_name": "venv",
   "language": "python",
   "name": "python3"
  },
  "language_info": {
   "codemirror_mode": {
    "name": "ipython",
    "version": 3
   },
   "file_extension": ".py",
   "mimetype": "text/x-python",
   "name": "python",
   "nbconvert_exporter": "python",
   "pygments_lexer": "ipython3",
   "version": "3.12.6"
  },
  "orig_nbformat": 4
 },
 "nbformat": 4,
 "nbformat_minor": 2
}
