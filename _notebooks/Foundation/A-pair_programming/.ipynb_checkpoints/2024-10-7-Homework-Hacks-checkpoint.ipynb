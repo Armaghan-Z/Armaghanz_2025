{
 "cells": [
  {
   "cell_type": "raw",
   "metadata": {
    "vscode": {
     "languageId": "raw"
    }
   },
   "source": [
    "---\n",
    "layout: post\n",
    "title: \"Team Teach 10/7/20224\"\n",
    "description: Things I have done and attempted\n",
    "permalink: /homework_hacks/\n",
    "type: issues\n",
    "comments: true\n",
    "---"
   ]
  },
  {
   "cell_type": "markdown",
   "metadata": {},
   "source": [
    "# 3.1.2 Hack 1"
   ]
  },
  {
   "cell_type": "code",
   "execution_count": 12,
   "metadata": {},
   "outputs": [
    {
     "name": "stdout",
     "output_type": "stream",
     "text": [
      "Step 1: Value is 42, Type is <class 'int'>\n",
      "Step 2: Value is 42.0, Type is <class 'float'>\n",
      "Step 3: Value is 'forty-two', Type is <class 'str'>\n",
      "Step 4: Value is True, Type is <class 'bool'>\n"
     ]
    }
   ],
   "source": [
    "# Step 1: Initialize the variable as an integer\n",
    "my_var = 42\n",
    "print(f\"Step 1: Value is {my_var}, Type is {type(my_var)}\")\n",
    "\n",
    "# Step 2: Reassign the variable to a float\n",
    "my_var = 42.0\n",
    "print(f\"Step 2: Value is {my_var}, Type is {type(my_var)}\")\n",
    "\n",
    "# Step 3: Reassign the variable to a string\n",
    "my_var = \"forty-two\"\n",
    "print(f\"Step 3: Value is '{my_var}', Type is {type(my_var)}\")\n",
    "\n",
    "# Step 4: Reassign the variable to a boolean\n",
    "my_var = True\n",
    "print(f\"Step 4: Value is {my_var}, Type is {type(my_var)}\")\n"
   ]
  },
  {
   "cell_type": "markdown",
   "metadata": {},
   "source": [
    "## 3.1.4 Hack 1: Naming Variables for User Profile"
   ]
  },
  {
   "cell_type": "code",
   "execution_count": 13,
   "metadata": {},
   "outputs": [
    {
     "name": "stdout",
     "output_type": "stream",
     "text": [
      "Armaghan Zarak, aged 15, can be contacted at Armaghanz@email.com and has a balance of $9470016 in his account.\n"
     ]
    }
   ],
   "source": [
    "# Step 1: Assigning descriptive variable names and values\n",
    "user_full_name = \"Armaghan Zarak\"\n",
    "user_age = 15\n",
    "user_email = \"Armaghanz@email.com\"\n",
    "user_account_balance = 9470016\n",
    "\n",
    "# Step 2: Displaying the user profile information in a formatted sentence\n",
    "print(f\"{user_full_name}, aged {user_age}, can be contacted at {user_email} and has a balance of ${user_account_balance} in his account.\")\n"
   ]
  },
  {
   "cell_type": "markdown",
   "metadata": {},
   "source": [
    "# 3.4.2 Hack 1:"
   ]
  },
  {
   "cell_type": "code",
   "execution_count": 36,
   "metadata": {
    "vscode": {
     "languageId": "javascript"
    }
   },
   "outputs": [
    {
     "data": {
      "application/javascript": "// Function to reverse a string\nfunction reverseString(inputString) {\n    // Use the split, reverse, and join methods to reverse the string\n    return inputString.split('').reverse().join('');\n}\n\n// Example usage\nlet userInput = \"was it a car or a cat I saw?\";\nlet reversedOutput = reverseString(userInput);\n\n// Output the original and reversed strings\nconsole.log(\"Original: \" + userInput);\nconsole.log(\"Reversed: \" + reversedOutput);\n",
      "text/plain": [
       "<IPython.core.display.Javascript object>"
      ]
     },
     "metadata": {},
     "output_type": "display_data"
    }
   ],
   "source": [
    "%%javascript\n",
    "// Function to reverse a string\n",
    "function reverseString(inputString) {\n",
    "    // Use the split, reverse, and join methods to reverse the string\n",
    "    return inputString.split('').reverse().join('');\n",
    "}\n",
    "\n",
    "// Example usage\n",
    "let userInput = \"was it a car or a cat I saw?\";\n",
    "let reversedOutput = reverseString(userInput);\n",
    "\n",
    "// Output the original and reversed strings\n",
    "console.log(\"Original: \" + userInput);\n",
    "console.log(\"Reversed: \" + reversedOutput);"
   ]
  },
  {
   "cell_type": "markdown",
   "metadata": {},
   "source": [
    "# 3.4.4 Hack 1"
   ]
  },
  {
   "cell_type": "code",
   "execution_count": 3,
   "metadata": {
    "vscode": {
     "languageId": "javascript"
    }
   },
   "outputs": [
    {
     "ename": "SyntaxError",
     "evalue": "invalid syntax (3439137755.py, line 1)",
     "output_type": "error",
     "traceback": [
      "\u001b[0;36m  Cell \u001b[0;32mIn[3], line 1\u001b[0;36m\u001b[0m\n\u001b[0;31m    *(String, containing, all, African, countries, separated, by, commas, */)\u001b[0m\n\u001b[0m                                                                           ^\u001b[0m\n\u001b[0;31mSyntaxError\u001b[0m\u001b[0;31m:\u001b[0m invalid syntax\n"
     ]
    }
   ],
   "source": [
    "/* String containing all African countries separated by commas */\n",
    "let countriesString = \"Algeria, Angola, Benin, Botswana, Burkina Faso, Burundi, Cabo Verde, Cameroon, Central African Republic, Chad, Comoros, Congo (Congo-Brazzaville), Cote d’Ivoire, Djibouti, DR Congo (Congo-Kinshasa), Egypt, Equatorial Guinea, Eritrea, Eswatini, Ethiopia, Gabon, Gambia, Ghana, Guinea, Guinea-Bissau, Kenya, Lesotho, Liberia, Libya, Madagascar, Malawi, Mali, Mauritania, Mauritius, Morocco, Mozambique, Namibia, Niger, Nigeria, Rwanda, Sao Tome and Principe, Senegal, Seychelles, Sierra Leone, Somalia, South Africa, South Sudan, Sudan, Tanzania, Togo, Tunisia, Uganda, Zambia, Zimbabwe\";\n",
    "\n",
    "/* Convert the string into an array */\n",
    "let countriesArray = countriesString.split(\", \");\n",
    "\n",
    "/* Output the array to the console */\n",
    "console.log(countriesArray);"
   ]
  },
  {
   "cell_type": "markdown",
   "metadata": {},
   "source": [
    "# 3.10 Popcorn hack"
   ]
  },
  {
   "cell_type": "code",
   "execution_count": 4,
   "metadata": {},
   "outputs": [
    {
     "name": "stdout",
     "output_type": "stream",
     "text": [
      "Final list after removals: ['banana', 'date']\n"
     ]
    }
   ],
   "source": [
    "# Popcorn Hack: Working with Python Lists\n",
    "\n",
    "# Step 1: Create a list of your choosing\n",
    "my_list = ['apple', 'banana', 'cherry', 'date', 'elderberry']\n",
    "\n",
    "# Step 2: Remove the last element in the list\n",
    "my_list.pop()  # Removes 'elderberry'\n",
    "\n",
    "# Step 3: Remove the first element in the list\n",
    "my_list.pop(0)  # Removes 'apple'\n",
    "\n",
    "# Step 4: Remove an element at an index that is not the first or last\n",
    "my_list.pop(1)  # Removes 'cherry' (element at index 1)\n",
    "\n",
    "# Step 5: Print the final list\n",
    "print(\"Final list after removals:\", my_list)\n"
   ]
  },
  {
   "cell_type": "code",
   "execution_count": 33,
   "metadata": {
    "vscode": {
     "languageId": "javascript"
    }
   },
   "outputs": [
    {
     "ename": "SyntaxError",
     "evalue": "invalid syntax (3356874518.py, line 1)",
     "output_type": "error",
     "traceback": [
      "\u001b[0;36m  Cell \u001b[0;32mIn[33], line 1\u001b[0;36m\u001b[0m\n\u001b[0;31m    function goOutside(temperature, isRaining) {\u001b[0m\n\u001b[0m             ^\u001b[0m\n\u001b[0;31mSyntaxError\u001b[0m\u001b[0;31m:\u001b[0m invalid syntax\n"
     ]
    }
   ],
   "source": [
    "function goOutside(temperature, isRaining) {\n",
    "    if (temperature < 100 && isRaining === true) {\n",
    "    return true;\n",
    "    } else if (temperature > 32 && isRaining === false) {\n",
    "    return true;\n",
    "    } else {\n",
    "    return false;\n",
    "    }\n",
    "    }"
   ]
  }
 ],
 "metadata": {
  "kernelspec": {
   "display_name": "Python 3 (ipykernel)",
   "language": "python",
   "name": "python3"
  },
  "language_info": {
   "codemirror_mode": {
    "name": "ipython",
    "version": 3
   },
   "file_extension": ".py",
   "mimetype": "text/x-python",
   "name": "python",
   "nbconvert_exporter": "python",
   "pygments_lexer": "ipython3",
   "version": "3.12.7"
  },
  "orig_nbformat": 4
 },
 "nbformat": 4,
 "nbformat_minor": 2
}
